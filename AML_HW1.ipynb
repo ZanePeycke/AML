{
  "nbformat": 4,
  "nbformat_minor": 0,
  "metadata": {
    "colab": {
      "name": "AML_HW1.ipynb",
      "provenance": [],
      "authorship_tag": "ABX9TyPOFM2cw5sN00/6dt5emGpl",
      "include_colab_link": true
    },
    "kernelspec": {
      "name": "python3",
      "display_name": "Python 3"
    }
  },
  "cells": [
    {
      "cell_type": "markdown",
      "metadata": {
        "id": "view-in-github",
        "colab_type": "text"
      },
      "source": [
        "<a href=\"https://colab.research.google.com/github/ZanePeycke/AML/blob/master/AML_HW1.ipynb\" target=\"_parent\"><img src=\"https://colab.research.google.com/assets/colab-badge.svg\" alt=\"Open In Colab\"/></a>"
      ]
    },
    {
      "cell_type": "markdown",
      "metadata": {
        "id": "KfYoxVotUwCt",
        "colab_type": "text"
      },
      "source": [
        "Zane Peycke,  ZMP2105, \n",
        "Applied Machine Learning HW1, \n",
        "Spring 2020\n",
        "\n"
      ]
    },
    {
      "cell_type": "markdown",
      "metadata": {
        "id": "Xj4A1Gl1VCJD",
        "colab_type": "text"
      },
      "source": [
        "All exercises will work on the Australia Fire dataset:\n",
        "https://www.kaggle.com/carlosparadis/fires-from-space-australia-and-new-zeland\n",
        "\n",
        "We will work with fire_nrt_V1_96617.csv which is described here:\n",
        "https://earthdata.nasa.gov/earth-observation-data/near-real-time/firms/viirs-i-band-active-fire-data\n"
      ]
    },
    {
      "cell_type": "code",
      "metadata": {
        "id": "KqZ1jvQvVEEI",
        "colab_type": "code",
        "colab": {}
      },
      "source": [
        ""
      ],
      "execution_count": 0,
      "outputs": []
    }
  ]
}